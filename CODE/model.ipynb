{
 "cells": [
  {
   "cell_type": "code",
   "execution_count": 1,
   "metadata": {},
   "outputs": [],
   "source": [
    "import pandas as pd\n",
    "import numpy as np\n",
    "import math\n",
    "import matplotlib.pyplot as plt\n",
    "\n",
    "#Loading Data\n",
    "train_data = pd.read_csv('../DATA/data.csv')"
   ]
  },
  {
   "cell_type": "code",
   "execution_count": 2,
   "metadata": {},
   "outputs": [
    {
     "data": {
      "text/html": [
       "<div>\n",
       "<style scoped>\n",
       "    .dataframe tbody tr th:only-of-type {\n",
       "        vertical-align: middle;\n",
       "    }\n",
       "\n",
       "    .dataframe tbody tr th {\n",
       "        vertical-align: top;\n",
       "    }\n",
       "\n",
       "    .dataframe thead th {\n",
       "        text-align: right;\n",
       "    }\n",
       "</style>\n",
       "<table border=\"1\" class=\"dataframe\">\n",
       "  <thead>\n",
       "    <tr style=\"text-align: right;\">\n",
       "      <th></th>\n",
       "      <th>ArticleId</th>\n",
       "      <th>Text</th>\n",
       "      <th>Category</th>\n",
       "    </tr>\n",
       "  </thead>\n",
       "  <tbody>\n",
       "    <tr>\n",
       "      <th>0</th>\n",
       "      <td>14</td>\n",
       "      <td>One man's claims that he scammed people on the...</td>\n",
       "      <td>TECH</td>\n",
       "    </tr>\n",
       "    <tr>\n",
       "      <th>1</th>\n",
       "      <td>18</td>\n",
       "      <td>Maury Wills who helped the Los Angeles Dodgers...</td>\n",
       "      <td>SPORTS</td>\n",
       "    </tr>\n",
       "    <tr>\n",
       "      <th>2</th>\n",
       "      <td>21</td>\n",
       "      <td>For the past 18 months Hollywood has effective...</td>\n",
       "      <td>ENTERTAINMENT</td>\n",
       "    </tr>\n",
       "    <tr>\n",
       "      <th>3</th>\n",
       "      <td>22</td>\n",
       "      <td>President issues vow as tensions with China rise.</td>\n",
       "      <td>POLITICS</td>\n",
       "    </tr>\n",
       "    <tr>\n",
       "      <th>4</th>\n",
       "      <td>25</td>\n",
       "      <td>An annual celebration took on a different feel...</td>\n",
       "      <td>POLITICS</td>\n",
       "    </tr>\n",
       "  </tbody>\n",
       "</table>\n",
       "</div>"
      ],
      "text/plain": [
       "  ArticleId                                               Text       Category\n",
       "0        14  One man's claims that he scammed people on the...           TECH\n",
       "1        18  Maury Wills who helped the Los Angeles Dodgers...         SPORTS\n",
       "2        21  For the past 18 months Hollywood has effective...  ENTERTAINMENT\n",
       "3        22  President issues vow as tensions with China rise.       POLITICS\n",
       "4        25  An annual celebration took on a different feel...       POLITICS"
      ]
     },
     "execution_count": 2,
     "metadata": {},
     "output_type": "execute_result"
    }
   ],
   "source": [
    "train_data.head()"
   ]
  },
  {
   "cell_type": "code",
   "execution_count": 3,
   "metadata": {},
   "outputs": [
    {
     "name": "stdout",
     "output_type": "stream",
     "text": [
      "Number of Rows :  64351\n",
      "Number of Columns :  3\n",
      "Column Names :  ['ArticleId' 'Text' 'Category']\n"
     ]
    }
   ],
   "source": [
    "# DataFrame Values\n",
    "print(\"Number of Rows : \",train_data.shape[0])\n",
    "print(\"Number of Columns : \",train_data.shape[1])\n",
    "print(\"Column Names : \",train_data.columns.values)"
   ]
  },
  {
   "cell_type": "code",
   "execution_count": 4,
   "metadata": {},
   "outputs": [
    {
     "data": {
      "text/plain": [
       "POLITICS         34696\n",
       "ENTERTAINMENT    16953\n",
       "BUSINESS          5753\n",
       "SPORTS            4933\n",
       "TECH              1958\n",
       "Name: Category, dtype: int64"
      ]
     },
     "execution_count": 4,
     "metadata": {},
     "output_type": "execute_result"
    }
   ],
   "source": [
    "# Data Points per Category\n",
    "train_data['Category'].value_counts()"
   ]
  },
  {
   "cell_type": "code",
   "execution_count": 5,
   "metadata": {},
   "outputs": [
    {
     "data": {
      "text/plain": [
       "ArticleId    0\n",
       "Text         0\n",
       "Category     0\n",
       "dtype: int64"
      ]
     },
     "execution_count": 5,
     "metadata": {},
     "output_type": "execute_result"
    }
   ],
   "source": [
    "# Removing rows with missing values\n",
    "train_data.dropna(inplace=True)\n",
    "train_data.isna().sum()"
   ]
  },
  {
   "cell_type": "code",
   "execution_count": 6,
   "metadata": {},
   "outputs": [
    {
     "name": "stdout",
     "output_type": "stream",
     "text": [
      "['TECH' 'SPORTS' 'ENTERTAINMENT' 'POLITICS' 'BUSINESS']\n"
     ]
    }
   ],
   "source": [
    "target_category = train_data['Category'].unique()\n",
    "print(target_category)"
   ]
  },
  {
   "cell_type": "code",
   "execution_count": 7,
   "metadata": {},
   "outputs": [
    {
     "data": {
      "text/plain": [
       "<AxesSubplot:xlabel='News Categories', ylabel='Data Points Per Category'>"
      ]
     },
     "execution_count": 7,
     "metadata": {},
     "output_type": "execute_result"
    },
    {
     "data": {
      "image/png": "[encoded data removed]",
      "text/plain": [
       "<Figure size 720x360 with 1 Axes>"
      ]
     },
     "metadata": {
      "needs_background": "light"
     },
     "output_type": "display_data"
    }
   ],
   "source": [
    "# Plotting data points per category\n",
    "news_cat = train_data['Category'].value_counts()\n",
    "my_colors = ['yellow', 'red', 'green', 'blue', 'cyan', 'magenta']\n",
    "news_cat.sample(frac=1).plot(kind='bar', figsize=(10,5), xlabel=\"News Categories\", ylabel=\"Data Points Per Category\", color=my_colors)"
   ]
  },
  {
   "cell_type": "code",
   "execution_count": 8,
   "metadata": {},
   "outputs": [
    {
     "name": "stdout",
     "output_type": "stream",
     "text": [
      "179\n",
      "['i', 'me', 'my', 'myself', 'we', 'our', 'ours', 'ourselves', 'you', \"you're\", \"you've\", \"you'll\", \"you'd\", 'your', 'yours', 'yourself', 'yourselves', 'he', 'him', 'his', 'himself', 'she', \"she's\", 'her', 'hers', 'herself', 'it', \"it's\", 'its', 'itself', 'they', 'them', 'their', 'theirs', 'themselves', 'what', 'which', 'who', 'whom', 'this', 'that', \"that'll\", 'these', 'those', 'am', 'is', 'are', 'was', 'were', 'be', 'been', 'being', 'have', 'has', 'had', 'having', 'do', 'does', 'did', 'doing', 'a', 'an', 'the', 'and', 'but', 'if', 'or', 'because', 'as', 'until', 'while', 'of', 'at', 'by', 'for', 'with', 'about', 'against', 'between', 'into', 'through', 'during', 'before', 'after', 'above', 'below', 'to', 'from', 'up', 'down', 'in', 'out', 'on', 'off', 'over', 'under', 'again', 'further', 'then', 'once', 'here', 'there', 'when', 'where', 'why', 'how', 'all', 'any', 'both', 'each', 'few', 'more', 'most', 'other', 'some', 'such', 'no', 'nor', 'not', 'only', 'own', 'same', 'so', 'than', 'too', 'very', 's', 't', 'can', 'will', 'just', 'don', \"don't\", 'should', \"should've\", 'now', 'd', 'll', 'm', 'o', 're', 've', 'y', 'ain', 'aren', \"aren't\", 'couldn', \"couldn't\", 'didn', \"didn't\", 'doesn', \"doesn't\", 'hadn', \"hadn't\", 'hasn', \"hasn't\", 'haven', \"haven't\", 'isn', \"isn't\", 'ma', 'mightn', \"mightn't\", 'mustn', \"mustn't\", 'needn', \"needn't\", 'shan', \"shan't\", 'shouldn', \"shouldn't\", 'wasn', \"wasn't\", 'weren', \"weren't\", 'won', \"won't\", 'wouldn', \"wouldn't\"]\n"
     ]
    }
   ],
   "source": [
    "import nltk\n",
    "from nltk.corpus import stopwords\n",
    "\n",
    "print(len(stopwords.words('english')))\n",
    "print(stopwords.words('english'))"
   ]
  },
  {
   "cell_type": "code",
   "execution_count": 9,
   "metadata": {},
   "outputs": [],
   "source": [
    "import warnings\n",
    "import re\n",
    "\n",
    "stop_words = set(stopwords.words('english'))\n",
    "\n",
    "def txt_preprocessing(total_text, index, column, df):\n",
    "    if type(total_text) is not int:\n",
    "        string = \"\"\n",
    "        total_text = re.sub('[^a-zA-Z0-9\\n]', ' ', total_text)\n",
    "        total_text = re.sub('\\s+',' ', total_text)\n",
    "        total_text = total_text.lower()\n",
    "        \n",
    "        for word in total_text.split():\n",
    "            if not word in stop_words:\n",
    "                string += word + \" \"\n",
    "        df[column][index] = string"
   ]
  },
  {
   "cell_type": "code",
   "execution_count": 10,
   "metadata": {},
   "outputs": [
    {
     "data": {
      "text/html": [
       "<div>\n",
       "<style scoped>\n",
       "    .dataframe tbody tr th:only-of-type {\n",
       "        vertical-align: middle;\n",
       "    }\n",
       "\n",
       "    .dataframe tbody tr th {\n",
       "        vertical-align: top;\n",
       "    }\n",
       "\n",
       "    .dataframe thead th {\n",
       "        text-align: right;\n",
       "    }\n",
       "</style>\n",
       "<table border=\"1\" class=\"dataframe\">\n",
       "  <thead>\n",
       "    <tr style=\"text-align: right;\">\n",
       "      <th></th>\n",
       "      <th>ArticleId</th>\n",
       "      <th>Text</th>\n",
       "      <th>Category</th>\n",
       "    </tr>\n",
       "  </thead>\n",
       "  <tbody>\n",
       "    <tr>\n",
       "      <th>0</th>\n",
       "      <td>14</td>\n",
       "      <td>one man claims scammed people platform caused ...</td>\n",
       "      <td>TECH</td>\n",
       "    </tr>\n",
       "    <tr>\n",
       "      <th>1</th>\n",
       "      <td>18</td>\n",
       "      <td>maury wills helped los angeles dodgers win thr...</td>\n",
       "      <td>SPORTS</td>\n",
       "    </tr>\n",
       "    <tr>\n",
       "      <th>2</th>\n",
       "      <td>21</td>\n",
       "      <td>past 18 months hollywood effectively boycotted...</td>\n",
       "      <td>ENTERTAINMENT</td>\n",
       "    </tr>\n",
       "    <tr>\n",
       "      <th>3</th>\n",
       "      <td>22</td>\n",
       "      <td>president issues vow tensions china rise</td>\n",
       "      <td>POLITICS</td>\n",
       "    </tr>\n",
       "    <tr>\n",
       "      <th>4</th>\n",
       "      <td>25</td>\n",
       "      <td>annual celebration took different feel russia ...</td>\n",
       "      <td>POLITICS</td>\n",
       "    </tr>\n",
       "  </tbody>\n",
       "</table>\n",
       "</div>"
      ],
      "text/plain": [
       "  ArticleId                                               Text       Category\n",
       "0        14  one man claims scammed people platform caused ...           TECH\n",
       "1        18  maury wills helped los angeles dodgers win thr...         SPORTS\n",
       "2        21  past 18 months hollywood effectively boycotted...  ENTERTAINMENT\n",
       "3        22          president issues vow tensions china rise        POLITICS\n",
       "4        25  annual celebration took different feel russia ...       POLITICS"
      ]
     },
     "execution_count": 10,
     "metadata": {},
     "output_type": "execute_result"
    }
   ],
   "source": [
    "# Preprocessing the data\n",
    "\n",
    "for index, row in train_data.iterrows():\n",
    "    if type(row['Text']) is str:\n",
    "        txt_preprocessing(row['Text'], index, 'Text', train_data)\n",
    "\n",
    "train_data.head()"
   ]
  },
  {
   "cell_type": "code",
   "execution_count": 11,
   "metadata": {},
   "outputs": [
    {
     "name": "stdout",
     "output_type": "stream",
     "text": [
      "NUMBER OF DATA POINTS IN TRAIN DATA : 45578\n",
      "NUMBER OF DATA POINTS IN TEST DATA  : 11395\n"
     ]
    }
   ],
   "source": [
    "# Dividing the data into train and test set\n",
    "from sklearn.model_selection import train_test_split\n",
    "X_train = train_data\n",
    "y_train = train_data['Category']\n",
    "\n",
    "X_train, X_test, y_train, y_test = train_test_split(X_train, y_train, test_size=0.20)\n",
    "\n",
    "print(\"NUMBER OF DATA POINTS IN TRAIN DATA :\", X_train.shape[0])\n",
    "print(\"NUMBER OF DATA POINTS IN TEST DATA  :\", X_test.shape[0])"
   ]
  },
  {
   "cell_type": "code",
   "execution_count": 13,
   "metadata": {},
   "outputs": [
    {
     "name": "stdout",
     "output_type": "stream",
     "text": [
      "Total Number of Unique Words in Train Data : 36767\n"
     ]
    }
   ],
   "source": [
    "from sklearn.feature_extraction.text import CountVectorizer\n",
    "\n",
    "text_vectorizer = CountVectorizer()\n",
    "train_text_encoded = text_vectorizer.fit_transform(X_train['Text'])\n",
    "\n",
    "train_text_features = text_vectorizer.get_feature_names_out()\n",
    "train_text_feature_counts = train_text_encoded.sum(axis=0).A1\n",
    "text_feature_dict = dict(zip(list(train_text_features),train_text_feature_counts))\n",
    "\n",
    "print(\"Total Number of Unique Words in Train Data :\",len(train_text_features))"
   ]
  },
  {
   "cell_type": "code",
   "execution_count": 20,
   "metadata": {},
   "outputs": [
    {
     "name": "stdout",
     "output_type": "stream",
     "text": [
      "34505\n",
      "34505\n"
     ]
    }
   ],
   "source": [
    "print(len(text_feature_dict))\n",
    "for word, frequency in list(text_feature_dict.items()):\n",
    "    if word[0] >= '0' and word[0] <= '9':\n",
    "        del text_feature_dict[word]\n",
    "\n",
    "print(len(text_feature_dict))"
   ]
  },
  {
   "cell_type": "code",
   "execution_count": 21,
   "metadata": {},
   "outputs": [],
   "source": [
    "from sklearn.preprocessing import normalize\n",
    "\n",
    "train_text_encoded = normalize(train_text_encoded, axis=0)\n",
    "test_text_encoded = text_vectorizer.transform(X_test['Text'])\n",
    "test_text_encoded = normalize(test_text_encoded, axis=0)"
   ]
  },
  {
   "cell_type": "code",
   "execution_count": 22,
   "metadata": {},
   "outputs": [
    {
     "name": "stdout",
     "output_type": "stream",
     "text": [
      "For values of best alpha = 0.1 The train log loss is: 0.5846027830046615\n",
      "For values of best alpha = 0.1 The cross validation log loss is: 0.8414588866647739\n"
     ]
    }
   ],
   "source": [
    "from sklearn.linear_model import SGDClassifier\n",
    "from sklearn.calibration import CalibratedClassifierCV\n",
    "from sklearn.naive_bayes import MultinomialNB\n",
    "from sklearn.metrics import log_loss\n",
    "\n",
    "alpha = [0.00001, 0.0001, 0.001, 0.1, 1, 10, 100, 1000]\n",
    "\n",
    "cv_log_error_array = []\n",
    "\n",
    "for i in alpha:\n",
    "    clf = MultinomialNB(alpha=i)\n",
    "    clf.fit(train_text_encoded, y_train)\n",
    "    \n",
    "    nb_sig_clf = CalibratedClassifierCV(clf, method=\"sigmoid\")\n",
    "    nb_sig_clf.fit(train_text_encoded, y_train)\n",
    "    \n",
    "    sig_clf_probs = nb_sig_clf.predict_proba(test_text_encoded)\n",
    "    \n",
    "    cv_log_error_array.append(log_loss(y_test, sig_clf_probs, labels=clf.classes_, eps=1e-15))\n",
    "\n",
    "best_alpha = np.argmin(cv_log_error_array)\n",
    "\n",
    "clf = MultinomialNB(alpha=alpha[best_alpha])\n",
    "clf.fit(train_text_encoded, y_train)\n",
    "\n",
    "nb_sig_clf = CalibratedClassifierCV(clf, method=\"sigmoid\")\n",
    "nb_sig_clf.fit(train_text_encoded, y_train)\n",
    "\n",
    "predict_y = nb_sig_clf.predict_proba(train_text_encoded)\n",
    "print('For values of best alpha =', alpha[best_alpha],\"The train log loss is:\",log_loss(y_train, predict_y, labels=clf.classes_, eps=1e-6))\n",
    "\n",
    "predict_y = nb_sig_clf.predict_proba(test_text_encoded)\n",
    "print('For values of best alpha =', alpha[best_alpha], \"The cross validation log loss is:\",log_loss(y_test, predict_y, labels=clf.classes_, eps=1e-6))"
   ]
  },
  {
   "cell_type": "code",
   "execution_count": 24,
   "metadata": {},
   "outputs": [
    {
     "name": "stdout",
     "output_type": "stream",
     "text": [
      "The train log loss is: 0.5846027830046615\n",
      "The cross validation log loss is: 0.8414588866647739\n"
     ]
    }
   ],
   "source": [
    "from sklearn.linear_model import SGDClassifier\n",
    "from sklearn.calibration import CalibratedClassifierCV\n",
    "from sklearn.naive_bayes import MultinomialNB\n",
    "from sklearn.metrics import log_loss\n",
    "\n",
    "clf = MultinomialNB(alpha=0.1)\n",
    "clf.fit(train_text_encoded, y_train)\n",
    "\n",
    "nb_sig_clf = CalibratedClassifierCV(clf, method=\"sigmoid\")\n",
    "nb_sig_clf.fit(train_text_encoded, y_train)\n",
    "\n",
    "predict_y = nb_sig_clf.predict_proba(train_text_encoded)\n",
    "print(\"The train log loss is:\",log_loss(y_train, predict_y, labels=clf.classes_, eps=1e-6))\n",
    "\n",
    "predict_y = nb_sig_clf.predict_proba(test_text_encoded)\n",
    "print(\"The cross validation log loss is:\",log_loss(y_test, predict_y, labels=clf.classes_, eps=1e-6))"
   ]
  },
  {
   "cell_type": "code",
   "execution_count": 25,
   "metadata": {},
   "outputs": [
    {
     "name": "stdout",
     "output_type": "stream",
     "text": [
      "Naive Bayes Train Accuracy - 81.94304269603757\n",
      "Naive Bayes CV Accuracy - 70.27643703378675\n"
     ]
    }
   ],
   "source": [
    "from sklearn.metrics import accuracy_score\n",
    "predicted_y = nb_sig_clf.predict(test_text_encoded)\n",
    "train_accuracy = (nb_sig_clf.score(train_text_encoded, y_train)*100)\n",
    "cv_accuracy = (accuracy_score(predicted_y, y_test)*100)\n",
    "\n",
    "print(\"Naive Bayes Train Accuracy -\",train_accuracy)\n",
    "print(\"Naive Bayes CV Accuracy -\",cv_accuracy)"
   ]
  },
  {
   "cell_type": "code",
   "execution_count": 30,
   "metadata": {},
   "outputs": [],
   "source": []
  },
  {
   "cell_type": "code",
   "execution_count": null,
   "metadata": {},
   "outputs": [],
   "source": []
  }
 ],
 "metadata": {
  "kernelspec": {
   "display_name": "Python 3.9.5 64-bit",
   "language": "python",
   "name": "python3"
  },
  "language_info": {
   "codemirror_mode": {
    "name": "ipython",
    "version": 3
   },
   "file_extension": ".py",
   "mimetype": "text/x-python",
   "name": "python",
   "nbconvert_exporter": "python",
   "pygments_lexer": "ipython3",
   "version": "3.9.5"
  },
  "orig_nbformat": 4,
  "vscode": {
   "interpreter": {
    "hash": "666cc40e7ce6d31c1437a93e07d5e72f3187b89406f08fe2ceec683eb8bf1832"
   }
  }
 },
 "nbformat": 4,
 "nbformat_minor": 2
}
