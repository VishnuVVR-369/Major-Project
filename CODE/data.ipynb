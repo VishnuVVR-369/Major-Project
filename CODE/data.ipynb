{
 "cells": [
  {
   "cell_type": "code",
   "execution_count": 1,
   "metadata": {},
   "outputs": [],
   "source": [
    "import pandas as pd\n",
    "import matplotlib.pyplot as plt\n",
    "import numpy as np\n",
    "\n",
    "#Load Data\n",
    "train_data = pd.read_csv('../DATA/data.csv')"
   ]
  },
  {
   "cell_type": "code",
   "execution_count": 2,
   "metadata": {},
   "outputs": [
    {
     "data": {
      "text/html": [
       "<div>\n",
       "<style scoped>\n",
       "    .dataframe tbody tr th:only-of-type {\n",
       "        vertical-align: middle;\n",
       "    }\n",
       "\n",
       "    .dataframe tbody tr th {\n",
       "        vertical-align: top;\n",
       "    }\n",
       "\n",
       "    .dataframe thead th {\n",
       "        text-align: right;\n",
       "    }\n",
       "</style>\n",
       "<table border=\"1\" class=\"dataframe\">\n",
       "  <thead>\n",
       "    <tr style=\"text-align: right;\">\n",
       "      <th></th>\n",
       "      <th>ArticleId</th>\n",
       "      <th>Text</th>\n",
       "      <th>Category</th>\n",
       "    </tr>\n",
       "  </thead>\n",
       "  <tbody>\n",
       "    <tr>\n",
       "      <th>0</th>\n",
       "      <td>14</td>\n",
       "      <td>One man's claims that he scammed people on the...</td>\n",
       "      <td>TECH</td>\n",
       "    </tr>\n",
       "    <tr>\n",
       "      <th>1</th>\n",
       "      <td>18</td>\n",
       "      <td>Maury Wills who helped the Los Angeles Dodgers...</td>\n",
       "      <td>SPORTS</td>\n",
       "    </tr>\n",
       "    <tr>\n",
       "      <th>2</th>\n",
       "      <td>21</td>\n",
       "      <td>For the past 18 months Hollywood has effective...</td>\n",
       "      <td>ENTERTAINMENT</td>\n",
       "    </tr>\n",
       "    <tr>\n",
       "      <th>3</th>\n",
       "      <td>22</td>\n",
       "      <td>President issues vow as tensions with China rise.</td>\n",
       "      <td>POLITICS</td>\n",
       "    </tr>\n",
       "    <tr>\n",
       "      <th>4</th>\n",
       "      <td>25</td>\n",
       "      <td>An annual celebration took on a different feel...</td>\n",
       "      <td>POLITICS</td>\n",
       "    </tr>\n",
       "  </tbody>\n",
       "</table>\n",
       "</div>"
      ],
      "text/plain": [
       "  ArticleId                                               Text       Category\n",
       "0        14  One man's claims that he scammed people on the...           TECH\n",
       "1        18  Maury Wills who helped the Los Angeles Dodgers...         SPORTS\n",
       "2        21  For the past 18 months Hollywood has effective...  ENTERTAINMENT\n",
       "3        22  President issues vow as tensions with China rise.       POLITICS\n",
       "4        25  An annual celebration took on a different feel...       POLITICS"
      ]
     },
     "execution_count": 2,
     "metadata": {},
     "output_type": "execute_result"
    }
   ],
   "source": [
    "train_data.head()"
   ]
  },
  {
   "cell_type": "code",
   "execution_count": 3,
   "metadata": {},
   "outputs": [
    {
     "name": "stdout",
     "output_type": "stream",
     "text": [
      "NUMBER OF DATA POINTS - 64351\n",
      "NUMBER OF FEATURES - 3\n",
      "FEATURES - ['ArticleId' 'Text' 'Category']\n"
     ]
    }
   ],
   "source": [
    "print(\"NUMBER OF DATA POINTS -\",train_data.shape[0])\n",
    "print(\"NUMBER OF FEATURES -\",train_data.shape[1])\n",
    "print(\"FEATURES -\",train_data.columns.values)"
   ]
  },
  {
   "cell_type": "code",
   "execution_count": 4,
   "metadata": {},
   "outputs": [
    {
     "data": {
      "text/html": [
       "<style type=\"text/css\">\n",
       "#T_9b6cb_row0_col0, #T_9b6cb_row0_col1, #T_9b6cb_row0_col2, #T_9b6cb_row1_col0, #T_9b6cb_row1_col1, #T_9b6cb_row1_col2, #T_9b6cb_row2_col0, #T_9b6cb_row2_col1, #T_9b6cb_row2_col2, #T_9b6cb_row3_col0, #T_9b6cb_row3_col1, #T_9b6cb_row3_col2 {\n",
       "  background-color: #F0F0F0;\n",
       "  color: #222222;\n",
       "  border: 1.5px  solid black;\n",
       "}\n",
       "</style>\n",
       "<table id=\"T_9b6cb\">\n",
       "  <thead>\n",
       "    <tr>\n",
       "      <th class=\"blank level0\" >&nbsp;</th>\n",
       "      <th id=\"T_9b6cb_level0_col0\" class=\"col_heading level0 col0\" >ArticleId</th>\n",
       "      <th id=\"T_9b6cb_level0_col1\" class=\"col_heading level0 col1\" >Text</th>\n",
       "      <th id=\"T_9b6cb_level0_col2\" class=\"col_heading level0 col2\" >Category</th>\n",
       "    </tr>\n",
       "  </thead>\n",
       "  <tbody>\n",
       "    <tr>\n",
       "      <th id=\"T_9b6cb_level0_row0\" class=\"row_heading level0 row0\" >count</th>\n",
       "      <td id=\"T_9b6cb_row0_col0\" class=\"data row0 col0\" >64351</td>\n",
       "      <td id=\"T_9b6cb_row0_col1\" class=\"data row0 col1\" >57023</td>\n",
       "      <td id=\"T_9b6cb_row0_col2\" class=\"data row0 col2\" >64293</td>\n",
       "    </tr>\n",
       "    <tr>\n",
       "      <th id=\"T_9b6cb_level0_row1\" class=\"row_heading level0 row1\" >unique</th>\n",
       "      <td id=\"T_9b6cb_row1_col0\" class=\"data row1 col0\" >64351</td>\n",
       "      <td id=\"T_9b6cb_row1_col1\" class=\"data row1 col1\" >56314</td>\n",
       "      <td id=\"T_9b6cb_row1_col2\" class=\"data row1 col2\" >5</td>\n",
       "    </tr>\n",
       "    <tr>\n",
       "      <th id=\"T_9b6cb_level0_row2\" class=\"row_heading level0 row2\" >top</th>\n",
       "      <td id=\"T_9b6cb_row2_col0\" class=\"data row2 col0\" >14</td>\n",
       "      <td id=\"T_9b6cb_row2_col1\" class=\"data row2 col1\" >Welcome to the HuffPost Rise Morning Newsbrief a short wrap-up of the news to help you start your day.</td>\n",
       "      <td id=\"T_9b6cb_row2_col2\" class=\"data row2 col2\" >POLITICS</td>\n",
       "    </tr>\n",
       "    <tr>\n",
       "      <th id=\"T_9b6cb_level0_row3\" class=\"row_heading level0 row3\" >freq</th>\n",
       "      <td id=\"T_9b6cb_row3_col0\" class=\"data row3 col0\" >1</td>\n",
       "      <td id=\"T_9b6cb_row3_col1\" class=\"data row3 col1\" >189</td>\n",
       "      <td id=\"T_9b6cb_row3_col2\" class=\"data row3 col2\" >34696</td>\n",
       "    </tr>\n",
       "  </tbody>\n",
       "</table>\n"
      ],
      "text/plain": [
       "<pandas.io.formats.style.Styler at 0x1a93b3b5430>"
      ]
     },
     "execution_count": 4,
     "metadata": {},
     "output_type": "execute_result"
    }
   ],
   "source": [
    "# Data Description using describe() in pandas\n",
    "train_data.describe().style.set_properties(**{'background-color': '#F0F0F0', 'color': '#222222', 'border': '1.5px  solid black'})"
   ]
  },
  {
   "cell_type": "code",
   "execution_count": 9,
   "metadata": {},
   "outputs": [
    {
     "name": "stdout",
     "output_type": "stream",
     "text": [
      "<class 'pandas.core.frame.DataFrame'>\n",
      "RangeIndex: 64351 entries, 0 to 64350\n",
      "Data columns (total 3 columns):\n",
      " #   Column     Non-Null Count  Dtype \n",
      "---  ------     --------------  ----- \n",
      " 0   ArticleId  64351 non-null  object\n",
      " 1   Text       57023 non-null  object\n",
      " 2   Category   64293 non-null  object\n",
      "dtypes: object(3)\n",
      "memory usage: 1.5+ MB\n"
     ]
    }
   ],
   "source": [
    "# Data Description using info() in pandas\n",
    "train_data.info()"
   ]
  },
  {
   "cell_type": "code",
   "execution_count": null,
   "metadata": {},
   "outputs": [],
   "source": []
  }
 ],
 "metadata": {
  "kernelspec": {
   "display_name": "Python 3.9.5 64-bit",
   "language": "python",
   "name": "python3"
  },
  "language_info": {
   "codemirror_mode": {
    "name": "ipython",
    "version": 3
   },
   "file_extension": ".py",
   "mimetype": "text/x-python",
   "name": "python",
   "nbconvert_exporter": "python",
   "pygments_lexer": "ipython3",
   "version": "3.9.5"
  },
  "orig_nbformat": 4,
  "vscode": {
   "interpreter": {
    "hash": "666cc40e7ce6d31c1437a93e07d5e72f3187b89406f08fe2ceec683eb8bf1832"
   }
  }
 },
 "nbformat": 4,
 "nbformat_minor": 2
}
