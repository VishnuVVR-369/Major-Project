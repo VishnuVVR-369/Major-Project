{
 "cells": [
  {
   "cell_type": "code",
   "execution_count": 2,
   "metadata": {},
   "outputs": [],
   "source": [
    "import json"
   ]
  },
  {
   "cell_type": "code",
   "execution_count": 3,
   "metadata": {},
   "outputs": [],
   "source": [
    "data = []\n",
    "for line in open('News_Category_Dataset_v3.json', 'r'):\n",
    "    data.append(json.loads(line))"
   ]
  },
  {
   "cell_type": "code",
   "execution_count": 5,
   "metadata": {},
   "outputs": [
    {
     "name": "stdout",
     "output_type": "stream",
     "text": [
      "{'TRAVEL', 'STYLE', 'LATINO VOICES', 'FOOD & DRINK', 'HEALTHY LIVING', 'IMPACT', 'FIFTY', 'DIVORCE', 'TASTE', 'WELLNESS', 'WORLDPOST', 'HOME & LIVING', 'SCIENCE', 'ENTERTAINMENT', 'test', 'TECH', 'MEDIA', 'GOOD NEWS', 'STYLE & BEAUTY', 'WEIRD NEWS', 'WORLD NEWS', 'BLACK VOICES', 'GREEN', 'THE WORLDPOST', 'ARTS & CULTURE', 'CULTURE & ARTS', 'MONEY', 'PARENTING', 'QUEER VOICES', 'COLLEGE', 'ARTS', 'BUSINESS', 'ENVIRONMENT', 'CRIME', 'EDUCATION', 'SPORTS', 'POLITICS', 'WEDDINGS', 'PARENTS', 'COMEDY', 'U.S. NEWS', 'RELIGION', 'WOMEN'}\n"
     ]
    }
   ],
   "source": [
    "set = {\"test\"}\n",
    "for i in range(len(data)):\n",
    "    set.add(data[i]['category'])\n",
    "print(set)"
   ]
  },
  {
   "cell_type": "code",
   "execution_count": 6,
   "metadata": {},
   "outputs": [],
   "source": [
    "required_category = ['SPORTS', 'POLITICS', 'TECH', 'BUSINESS', 'ENTERTAINMENT']"
   ]
  },
  {
   "cell_type": "code",
   "execution_count": 7,
   "metadata": {},
   "outputs": [],
   "source": [
    "import json\n",
    "\n",
    "filepath =  'News_Category_Dataset_v3.json'\n",
    "with open(filepath, encoding=\"utf-8\") as json_lines_file:\n",
    "    data = []\n",
    "    for line in json_lines_file:\n",
    "        data.append(json.loads(line))"
   ]
  },
  {
   "cell_type": "code",
   "execution_count": 8,
   "metadata": {},
   "outputs": [
    {
     "data": {
      "text/plain": [
       "{'link': 'https://www.huffpost.com/entry/golden-globes-return-nbc_n_6329f151e4b0ed991abda7f3',\n",
       " 'headline': 'Golden Globes Returning To NBC In January After Year Off-Air',\n",
       " 'category': 'ENTERTAINMENT',\n",
       " 'short_description': 'For the past 18 months, Hollywood has effectively boycotted the Globes after reports that the HFPA’s 87 members of non-American journalists included no Black members.',\n",
       " 'authors': '',\n",
       " 'date': '2022-09-20'}"
      ]
     },
     "execution_count": 8,
     "metadata": {},
     "output_type": "execute_result"
    }
   ],
   "source": [
    "data[20]"
   ]
  },
  {
   "cell_type": "code",
   "execution_count": 9,
   "metadata": {},
   "outputs": [],
   "source": [
    "file = open(\"data.csv\", \"w\")\n",
    "\n",
    "for i in range(len(data)):\n",
    "    if data[i]['category'] in required_category:\n",
    "        short_description = data[i]['short_description'].encode('ascii', 'ignore').decode('ascii').replace(',', '')\n",
    "        category = data[i]['category'].encode('ascii', 'ignore').decode('ascii')\n",
    "        file.write(str(i + 1) + ',' + short_description + ',' + category + '\\n')"
   ]
  },
  {
   "cell_type": "code",
   "execution_count": null,
   "metadata": {},
   "outputs": [],
   "source": []
  }
 ],
 "metadata": {
  "kernelspec": {
   "display_name": "Python 3.9.5 64-bit",
   "language": "python",
   "name": "python3"
  },
  "language_info": {
   "codemirror_mode": {
    "name": "ipython",
    "version": 3
   },
   "file_extension": ".py",
   "mimetype": "text/x-python",
   "name": "python",
   "nbconvert_exporter": "python",
   "pygments_lexer": "ipython3",
   "version": "3.9.5"
  },
  "orig_nbformat": 4,
  "vscode": {
   "interpreter": {
    "hash": "666cc40e7ce6d31c1437a93e07d5e72f3187b89406f08fe2ceec683eb8bf1832"
   }
  }
 },
 "nbformat": 4,
 "nbformat_minor": 2
}
