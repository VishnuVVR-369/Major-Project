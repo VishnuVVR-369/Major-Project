{
 "cells": [
  {
   "cell_type": "code",
   "execution_count": 95,
   "metadata": {},
   "outputs": [],
   "source": [
    "import json\n",
    "import pandas as pd"
   ]
  },
  {
   "cell_type": "code",
   "execution_count": 96,
   "metadata": {},
   "outputs": [],
   "source": [
    "data = []\n",
    "for line in open('News_Category_Dataset_v3.json', 'r'):\n",
    "    data.append(json.loads(line))"
   ]
  },
  {
   "cell_type": "code",
   "execution_count": 97,
   "metadata": {},
   "outputs": [
    {
     "name": "stdout",
     "output_type": "stream",
     "text": [
      "{'QUEER VOICES', 'ARTS', 'GOOD NEWS', 'STYLE', 'DIVORCE', 'COMEDY', 'WELLNESS', 'ENVIRONMENT', 'POLITICS', 'GREEN', 'FIFTY', 'BUSINESS', 'RELIGION', 'BLACK VOICES', 'EDUCATION', 'PARENTS', 'SCIENCE', 'WEDDINGS', 'HOME & LIVING', 'TECH', 'SPORTS', 'STYLE & BEAUTY', 'U.S. NEWS', 'CRIME', 'WEIRD NEWS', 'TASTE', 'WOMEN', 'FOOD & DRINK', 'ARTS & CULTURE', 'MONEY', 'ENTERTAINMENT', 'IMPACT', 'test', 'CULTURE & ARTS', 'PARENTING', 'MEDIA', 'LATINO VOICES', 'WORLD NEWS', 'TRAVEL', 'COLLEGE', 'WORLDPOST', 'HEALTHY LIVING', 'THE WORLDPOST'}\n"
     ]
    }
   ],
   "source": [
    "set = {\"test\"}\n",
    "for i in range(len(data)):\n",
    "    set.add(data[i]['category'])\n",
    "print(set)"
   ]
  },
  {
   "cell_type": "code",
   "execution_count": 98,
   "metadata": {},
   "outputs": [],
   "source": [
    "required_category = ['sport', 'politics', 'tech', 'business', 'entertainment']"
   ]
  },
  {
   "cell_type": "code",
   "execution_count": 99,
   "metadata": {},
   "outputs": [],
   "source": [
    "import json\n",
    "\n",
    "filepath =  'News_Category_Dataset_v3.json'\n",
    "with open(filepath, encoding=\"utf-8\") as json_lines_file:\n",
    "    data = []\n",
    "    for line in json_lines_file:\n",
    "        data.append(json.loads(line))"
   ]
  },
  {
   "cell_type": "code",
   "execution_count": 100,
   "metadata": {},
   "outputs": [
    {
     "data": {
      "text/plain": [
       "{'link': 'https://www.huffpost.com/entry/golden-globes-return-nbc_n_6329f151e4b0ed991abda7f3',\n",
       " 'headline': 'Golden Globes Returning To NBC In January After Year Off-Air',\n",
       " 'category': 'ENTERTAINMENT',\n",
       " 'short_description': 'For the past 18 months, Hollywood has effectively boycotted the Globes after reports that the HFPA’s 87 members of non-American journalists included no Black members.',\n",
       " 'authors': '',\n",
       " 'date': '2022-09-20'}"
      ]
     },
     "execution_count": 100,
     "metadata": {},
     "output_type": "execute_result"
    }
   ],
   "source": [
    "data[20]"
   ]
  },
  {
   "cell_type": "code",
   "execution_count": 101,
   "metadata": {},
   "outputs": [],
   "source": [
    "TrainFile = open(\"TrainData.csv\", \"w\")\n",
    "TestFile = open(\"TestData.csv\", \"w\")\n",
    "\n",
    "TrainFile.write(\"ArticleId,Text,Category\\n\")\n",
    "TestFile.write(\"ArticleId,Text,Category\\n\")\n",
    "\n",
    "for i in range(len(data)):\n",
    "    if data[i]['category'].lower() in ['sports', 'politics', 'tech', 'business', 'entertainment']:\n",
    "        short_description = data[i]['short_description'].encode('ascii', 'ignore').decode('ascii').replace(',', '')\n",
    "        category = data[i]['category'].encode('ascii', 'ignore').decode('ascii')\n",
    "        if len(short_description) and len(category):\n",
    "            if category == 'SPORTS':\n",
    "                category = 'sport'\n",
    "            if i <= 100000:\n",
    "                TrainFile.write(str(i + 1) + ',' + short_description + ',' + category.lower() + '\\n')\n",
    "            else:\n",
    "                TestFile.write(str(i + 1) + ',' + short_description + ',' + category.lower() + '\\n')"
   ]
  },
  {
   "cell_type": "code",
   "execution_count": 102,
   "metadata": {},
   "outputs": [
    {
     "name": "stdout",
     "output_type": "stream",
     "text": [
      "(47728, 3)\n",
      "(9361, 3)\n"
     ]
    }
   ],
   "source": [
    "TrainData = pd.read_csv(\"TrainData.csv\")\n",
    "print(TrainData.shape)\n",
    "TestData = pd.read_csv(\"TestData.csv\")\n",
    "print(TestData.shape)"
   ]
  },
  {
   "cell_type": "code",
   "execution_count": null,
   "metadata": {},
   "outputs": [],
   "source": []
  }
 ],
 "metadata": {
  "kernelspec": {
   "display_name": "Python 3 (ipykernel)",
   "language": "python",
   "name": "python3"
  },
  "language_info": {
   "codemirror_mode": {
    "name": "ipython",
    "version": 3
   },
   "file_extension": ".py",
   "mimetype": "text/x-python",
   "name": "python",
   "nbconvert_exporter": "python",
   "pygments_lexer": "ipython3",
   "version": "3.10.9"
  },
  "vscode": {
   "interpreter": {
    "hash": "666cc40e7ce6d31c1437a93e07d5e72f3187b89406f08fe2ceec683eb8bf1832"
   }
  }
 },
 "nbformat": 4,
 "nbformat_minor": 4
}
