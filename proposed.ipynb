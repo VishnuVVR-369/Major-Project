{
 "cells": [
  {
   "cell_type": "code",
   "execution_count": 269,
   "metadata": {},
   "outputs": [],
   "source": [
    "import pandas as pd\n",
    "import numpy as np"
   ]
  },
  {
   "cell_type": "code",
   "execution_count": 282,
   "metadata": {},
   "outputs": [],
   "source": [
    "MINI_TRAIN_PATH = './DATA/MiniTrain.csv'\n",
    "TRAIN_PATH = './DATA/TrainData.csv'\n",
    "MINI_TEST_PATH = './DATA/MiniTest.csv'\n",
    "TEST_PATH = './DATA/TestData.csv'\n",
    "HUNDRED = 100"
   ]
  },
  {
   "cell_type": "code",
   "execution_count": 283,
   "metadata": {},
   "outputs": [
    {
     "name": "stdout",
     "output_type": "stream",
     "text": [
      "(999, 3)\n",
      "(491, 3)\n"
     ]
    }
   ],
   "source": [
    "train_data = pd.read_csv(MINI_TRAIN_PATH)\n",
    "test_data = pd.read_csv(MINI_TEST_PATH)\n",
    "\n",
    "train_data.dropna(inplace=True)\n",
    "train_data.reset_index(drop=True, inplace=True)\n",
    "\n",
    "test_data.dropna(inplace=True)\n",
    "test_data.reset_index(drop=True, inplace=True)\n",
    "\n",
    "print(train_data.shape)\n",
    "print(test_data.shape)"
   ]
  },
  {
   "cell_type": "code",
   "execution_count": 284,
   "metadata": {},
   "outputs": [],
   "source": [
    "import nltk\n",
    "# from nltk.downloader import download, download_shell\n",
    "# nltk.download('stopwords')\n",
    "from nltk.corpus import stopwords\n",
    "import warnings\n",
    "warnings.filterwarnings(\"ignore\")\n",
    "import re\n",
    "\n",
    "# Loading stopwords from nltk library\n",
    "stop_words = set(stopwords.words('english'))\n",
    "# Function for text preprocessing\n",
    "def txt_preprocessing(total_text, index, column, df):\n",
    "    if type(total_text) is not int:\n",
    "        string = \"\"\n",
    "        # Replace every special character with space\n",
    "        total_text = re.sub('[^a-zA-Z0-9\\n]', ' ', total_text)\n",
    "        # Remove multiple spaces\n",
    "        total_text = re.sub('\\s+',' ', total_text)\n",
    "        # Converting to lowercase\n",
    "        total_text = total_text.lower()\n",
    "        \n",
    "        for word in total_text.split():\n",
    "        # If word is not a stopword then retain that word from the data\n",
    "            if not word in stop_words:\n",
    "                string += word + \" \"\n",
    "        df[column][index] = string"
   ]
  },
  {
   "cell_type": "code",
   "execution_count": 285,
   "metadata": {},
   "outputs": [
    {
     "data": {
      "text/html": [
       "<div>\n",
       "<style scoped>\n",
       "    .dataframe tbody tr th:only-of-type {\n",
       "        vertical-align: middle;\n",
       "    }\n",
       "\n",
       "    .dataframe tbody tr th {\n",
       "        vertical-align: top;\n",
       "    }\n",
       "\n",
       "    .dataframe thead th {\n",
       "        text-align: right;\n",
       "    }\n",
       "</style>\n",
       "<table border=\"1\" class=\"dataframe\">\n",
       "  <thead>\n",
       "    <tr style=\"text-align: right;\">\n",
       "      <th></th>\n",
       "      <th>ArticleId</th>\n",
       "      <th>Text</th>\n",
       "      <th>Category</th>\n",
       "    </tr>\n",
       "  </thead>\n",
       "  <tbody>\n",
       "    <tr>\n",
       "      <th>0</th>\n",
       "      <td>1833</td>\n",
       "      <td>worldcom ex boss launches defence lawyers defe...</td>\n",
       "      <td>business</td>\n",
       "    </tr>\n",
       "    <tr>\n",
       "      <th>1</th>\n",
       "      <td>154</td>\n",
       "      <td>german business confidence slides german busin...</td>\n",
       "      <td>business</td>\n",
       "    </tr>\n",
       "    <tr>\n",
       "      <th>2</th>\n",
       "      <td>1101</td>\n",
       "      <td>bbc poll indicates economic gloom citizens maj...</td>\n",
       "      <td>business</td>\n",
       "    </tr>\n",
       "    <tr>\n",
       "      <th>3</th>\n",
       "      <td>1976</td>\n",
       "      <td>lifestyle governs mobile choice faster better ...</td>\n",
       "      <td>tech</td>\n",
       "    </tr>\n",
       "    <tr>\n",
       "      <th>4</th>\n",
       "      <td>917</td>\n",
       "      <td>enron bosses 168m payout eighteen former enron...</td>\n",
       "      <td>business</td>\n",
       "    </tr>\n",
       "  </tbody>\n",
       "</table>\n",
       "</div>"
      ],
      "text/plain": [
       "   ArticleId                                               Text  Category\n",
       "0       1833  worldcom ex boss launches defence lawyers defe...  business\n",
       "1        154  german business confidence slides german busin...  business\n",
       "2       1101  bbc poll indicates economic gloom citizens maj...  business\n",
       "3       1976  lifestyle governs mobile choice faster better ...      tech\n",
       "4        917  enron bosses 168m payout eighteen former enron...  business"
      ]
     },
     "execution_count": 285,
     "metadata": {},
     "output_type": "execute_result"
    }
   ],
   "source": [
    "for index, row in train_data.iterrows():\n",
    "    if type(row['Text']) is str:\n",
    "        txt_preprocessing(row['Text'], index, 'Text', train_data)\n",
    "\n",
    "train_data.head()"
   ]
  },
  {
   "cell_type": "code",
   "execution_count": 286,
   "metadata": {},
   "outputs": [],
   "source": [
    "# ind = list(data.index)\n",
    "# np.random.shuffle(ind)\n",
    "\n",
    "# train_len = int(data.shape[0]*0.80)\n",
    "# train_ind = ind[:train_len]\n",
    "# training_data = data.iloc[train_ind,:]\n",
    "# # print(training_data.head())\n",
    "\n",
    "# test_ind = ind[train_len:]\n",
    "# testing_data = data.iloc[test_ind,:]\n",
    "# # print(testing_data.head())\n",
    "\n",
    "# print('Training_data size -> {}'.format(training_data.shape))\n",
    "# print('Testing_data size -> {}'.format(testing_data.shape))\n",
    "\n",
    "# assert data.shape[0] ==  len(train_ind)+ len(test_ind), 'Not equal distribution'"
   ]
  },
  {
   "cell_type": "code",
   "execution_count": 287,
   "metadata": {},
   "outputs": [],
   "source": [
    "Category = {'business': 0, 'entertainment': 1, 'politics': 2, 'sport': 3, 'tech': 4}\n",
    "vals = {}\n",
    "weights = {}\n",
    "\n",
    "class WeightedNB:\n",
    "    def __init__(self, target, dataframe):\n",
    "        self.df = dataframe\n",
    "        # Target/Category Column\n",
    "        self.c_n = target\n",
    "        # Column Names\n",
    "        self.cols = list(self.df.columns)\n",
    "        self.cols.remove(self.c_n)\n",
    "        \n",
    "        self.store = {}\n",
    "        self.likelihood_for_all_()\n",
    "        \n",
    "    def likelihood_cal(self, x, y, z):\n",
    "        \"\"\" \n",
    "        x -> Column Name (String)\n",
    "        y -> Column Value (String)\n",
    "        z -> Class value (String)\n",
    "        c_n -> Class Name (Target)\n",
    "        \n",
    "        Returns -> P(x = y | c_n = z)\n",
    "        \"\"\"\n",
    "        df = self.df\n",
    "        \n",
    "        if x not in self.cols:\n",
    "            raise KeyError(\"Feature(column) not present in the Training Dataset\")\n",
    "        \n",
    "        res =  len(df[(df[x] == y) & (df[self.c_n] == z)]) /len(df[df[self.c_n] == z])\n",
    "        \n",
    "        if res == 0.0:\n",
    "            return 1/(len(df[df[self.c_n] == z]) + len(df[x].unique()))\n",
    "        \n",
    "        return res\n",
    "    \n",
    "    def likelihood_for_all_(self):     \n",
    "        df = self.df\n",
    "        dict1 = {}\n",
    "        for x in self.cols:\n",
    "            dict2 = {}\n",
    "            for y in df[x].unique():\n",
    "                dict3 = {}\n",
    "                for z in df[self.c_n].unique():\n",
    "                    #print('P({}=\"{}\"|{}=\"{}\") = {}'.format(x,y,self.c_n,z,self.likelihood_cal(x, y, z)))\n",
    "                    dict3[z] = self.likelihood_cal(x, y, z)\n",
    "                dict2[y] = dict3\n",
    "            dict1[x] = dict2\n",
    "        \n",
    "        self.store = dict1\n",
    "    \n",
    "    def likelihood_expr(self, class_val, expr):\n",
    "        val = 1  \n",
    "        \n",
    "        for k,v in expr:\n",
    "            try:\n",
    "                store_val = self.store[k][v][class_val]\n",
    "            except:\n",
    "                store_val = self.likelihood_cal(k,v,class_val)\n",
    "                \n",
    "            val *= store_val\n",
    "                                         \n",
    "        return val\n",
    "    \n",
    "    def prior(self, class_val):\n",
    "        df = self.df\n",
    "        return len(df[df[self.c_n] == class_val])/df.shape[0]\n",
    "    \n",
    "    def train(self, X):\n",
    "        df = self.df\n",
    "        \n",
    "        if type(X) == pd.core.series.Series:\n",
    "            values_list = [list(X.items())]\n",
    "            \n",
    "        elif type(X) == pd.core.frame.DataFrame:\n",
    "            values_list = [list(y.items()) for x,y in X.iterrows()]\n",
    "            \n",
    "        else:\n",
    "            raise TypeError('{} is not supported type'.format(type(X)))\n",
    "            \n",
    "        \n",
    "        for text in values_list:\n",
    "            article = list(text[1])[1]\n",
    "            category = list(text[2])[1]\n",
    "            words = article.split(' ')\n",
    "            for word in words:\n",
    "                if word in vals:\n",
    "                    vals[word][Category[category]] = vals[word][Category[category]] + 1\n",
    "                else:\n",
    "                    vals[word] = [0,0,0,0,0]\n",
    "                    vals[word][Category[category]] = 1\n",
    "                    \n",
    "        for values in vals:\n",
    "            total = sum(vals[values])\n",
    "            for i in range(5):\n",
    "                vals[values][i] = vals[values][i]/total\n",
    "        \n",
    "        for values in vals:\n",
    "            weights[values] = np.array(vals[values])\n",
    "            for i in range(5):\n",
    "                if (sum(vals[values]) - vals[values][i]) != 0.0 and vals[values][i] != 0.0:\n",
    "                    weights[values][i] = np.exp(np.log(vals[values][i] / (sum(vals[values]) - vals[values][i])))\n",
    "                else:\n",
    "                    weights[values][i] = 0.0\n",
    "                    \n",
    "        \n",
    "    def predict(self, X):\n",
    "        predicted_values = []\n",
    "        if type(X) == pd.core.series.Series:\n",
    "            values_list = [list(X.items())]\n",
    "            \n",
    "        elif type(X) == pd.core.frame.DataFrame:\n",
    "            values_list = [list(y.items()) for x,y in X.iterrows()]\n",
    "            \n",
    "        else:\n",
    "            raise TypeError('{} is not supported type'.format(type(X)))\n",
    "        \n",
    "        accuracy = 0\n",
    "        size = 0\n",
    "        for text in values_list:\n",
    "            article = list(text[1])[1]\n",
    "            category = list(text[2])[1].strip('\\n')\n",
    "            words = article.split(' ')\n",
    "            size += 1\n",
    "            prob = [0.0, 0.0, 0.0, 0.0, 0.0]\n",
    "            for i in range(5):\n",
    "                for word in words:\n",
    "                    if word in weights:\n",
    "                        prob[i] = prob[i] + vals[word][i] * weights[word][i]\n",
    "            maxProb = max(prob)\n",
    "            if maxProb == prob[0]:\n",
    "                predicted_values.append('business')\n",
    "                if category == 'business':\n",
    "                    accuracy += 1\n",
    "            elif maxProb == prob[1]:\n",
    "                predicted_values.append('entertainment')\n",
    "                if category == 'entertainment':\n",
    "                    accuracy += 1\n",
    "            elif maxProb == prob[2]:\n",
    "                predicted_values.append('politics')\n",
    "                if category == 'politics':\n",
    "                    accuracy += 1\n",
    "                    flag = True\n",
    "            elif maxProb == prob[3]:\n",
    "                predicted_values.append('sport')\n",
    "                if category == 'sport':\n",
    "                    accuracy += 1\n",
    "            elif maxProb == prob[4]:\n",
    "                predicted_values.append('tech')\n",
    "                if category == 'tech':\n",
    "                    accuracy += 1\n",
    "                    \n",
    "        \n",
    "        print(\"Accuracy: \", accuracy / size * HUNDRED, \"%\")\n",
    "        \n",
    "        return predicted_values\n",
    "    \n",
    "    def accuracy_score(self, X, Y):\n",
    "        assert len(X) == len(Y), 'Given values are not equal in size'\n",
    "        \n",
    "        total_matching_values = [x == y for x,y in zip(X,Y)]\n",
    "        return (np.sum(total_matching_values)/len(total_matching_values))*100\n",
    "    \n",
    "    def calculate_confusion_matrix(self, X, Y):\n",
    "        df = self.df\n",
    "        \n",
    "        unique_class_values = df[self.c_n].unique()\n",
    "        decimal_class_values = list(range(len(unique_class_values)))\n",
    "        numerical = {x:y for x,y in zip(unique_class_values, decimal_class_values)}\n",
    "        \n",
    "        x = [numerical[x] for x in X]\n",
    "        y = [numerical[y] for y in Y]\n",
    "        \n",
    "        \n",
    "        n = len(decimal_class_values)\n",
    "        confusion_matrix = np.zeros((n,n))\n",
    "        \n",
    "        for i,j in zip(x,y):\n",
    "            if i == j:\n",
    "                confusion_matrix[i][i] += 1\n",
    "            elif i != j:\n",
    "                confusion_matrix[i][j] += 1\n",
    "        \n",
    "        return confusion_matrix\n",
    "            \n",
    "    \n",
    "    def precision_score(self, X, Y):\n",
    "        assert len(X) == len(Y), 'Given values are not equal in size'\n",
    "        \n",
    "        confusion_matrix = self.calculate_confusion_matrix(X,Y)\n",
    "        tp = confusion_matrix[0][0]\n",
    "        fp = confusion_matrix[1][0]\n",
    "        \n",
    "        return tp / (tp+fp)\n",
    "    \n",
    "    def recall_score(self, X, Y):\n",
    "        assert len(X) == len(Y), 'Given values are not equal in size'\n",
    "        \n",
    "        confusion_matrix = self.calculate_confusion_matrix(X,Y)\n",
    "        tp = confusion_matrix[0][0]\n",
    "        fn = confusion_matrix[0][1]\n",
    "        \n",
    "        return tp / (tp+fn)"
   ]
  },
  {
   "cell_type": "code",
   "execution_count": 288,
   "metadata": {},
   "outputs": [
    {
     "name": "stdout",
     "output_type": "stream",
     "text": [
      "Object Created\n"
     ]
    }
   ],
   "source": [
    "model = WeightedNB(target='Category',dataframe=train_data)\n",
    "model.train(train_data)\n",
    "print(\"Object Created\")"
   ]
  },
  {
   "cell_type": "code",
   "execution_count": 289,
   "metadata": {},
   "outputs": [
    {
     "name": "stdout",
     "output_type": "stream",
     "text": [
      "Accuracy:  95.11201629327903 %\n"
     ]
    }
   ],
   "source": [
    "y_test = list(test_data['Category'])\n",
    "y_pred = model.predict(test_data)\n",
    "\n",
    "# print(len(y_test))\n",
    "# print(len(y_pred))"
   ]
  },
  {
   "cell_type": "code",
   "execution_count": 290,
   "metadata": {},
   "outputs": [],
   "source": [
    "from sklearn.metrics import confusion_matrix\n",
    "import seaborn as sns"
   ]
  },
  {
   "cell_type": "code",
   "execution_count": 291,
   "metadata": {},
   "outputs": [
    {
     "data": {
      "text/plain": [
       "<Axes: >"
      ]
     },
     "execution_count": 291,
     "metadata": {},
     "output_type": "execute_result"
    },
    {
     "data": {
      "image/png": "[encoded data removed]",
      "text/plain": [
       "<Figure size 640x480 with 2 Axes>"
      ]
     },
     "metadata": {},
     "output_type": "display_data"
    }
   ],
   "source": [
    "conf_mat = confusion_matrix(y_test, y_pred)\n",
    "sns.heatmap(conf_mat, annot=True, fmt='d')"
   ]
  },
  {
   "cell_type": "code",
   "execution_count": 229,
   "metadata": {},
   "outputs": [],
   "source": [
    "category = {'business': 0, 'entertainment': 1, 'politics': 2, 'sport': 3, 'tech': 4}"
   ]
  },
  {
   "cell_type": "code",
   "execution_count": 16,
   "metadata": {},
   "outputs": [
    {
     "data": {
      "image/png": "[encoded data removed]",
      "text/plain": [
       "<Figure size 432x288 with 1 Axes>"
      ]
     },
     "metadata": {
      "needs_background": "light"
     },
     "output_type": "display_data"
    }
   ],
   "source": [
    "ExistingModel = [78.00341, 76.27842, 80.25695, 75.85361, 76.10006]\n",
    "ProposedModel = [82.36892, 84.29505, 84.44507, 72.68903, 86.33905]\n",
    "width = 0.35\n",
    "index = ['Business', 'Entertainment', 'Politics', 'Sport', 'Tech'];\n",
    "\n",
    "plot.bar(np.arange(len(ExistingModel)), ExistingModel, width=width)\n",
    "plot.bar(np.arange(len(ProposedModel)) + width, ProposedModel, width=width)\n",
    "plot.xlabel(index)\n",
    "plot.show()\n"
   ]
  }
 ],
 "metadata": {
  "kernelspec": {
   "display_name": "Python 3 (ipykernel)",
   "language": "python",
   "name": "python3"
  },
  "language_info": {
   "codemirror_mode": {
    "name": "ipython",
    "version": 3
   },
   "file_extension": ".py",
   "mimetype": "text/x-python",
   "name": "python",
   "nbconvert_exporter": "python",
   "pygments_lexer": "ipython3",
   "version": "3.10.9"
  },
  "vscode": {
   "interpreter": {
    "hash": "666cc40e7ce6d31c1437a93e07d5e72f3187b89406f08fe2ceec683eb8bf1832"
   }
  }
 },
 "nbformat": 4,
 "nbformat_minor": 4
}
