{
 "cells": [
  {
   "cell_type": "code",
   "execution_count": 1,
   "metadata": {},
   "outputs": [],
   "source": [
    "import numpy as np\n",
    "import csv"
   ]
  },
  {
   "cell_type": "code",
   "execution_count": 2,
   "metadata": {},
   "outputs": [],
   "source": [
    "category = {'business': 0, 'entertainment': 1, 'politics': 2, 'sport': 3, 'tech': 4}\n",
    "\n",
    "vals = {}\n",
    "\n",
    "with open('DATA/MiniTrain.csv', mode ='r') as file:   \n",
    "    csvFile = csv.reader(file)\n",
    "    i = 0;\n",
    "    for lines in csvFile:\n",
    "        if i == 0:\n",
    "            i = i + 1\n",
    "            continue\n",
    "        else:\n",
    "            for word in lines[1].split(' '):\n",
    "                if word in vals:\n",
    "                    vals[word][category[lines[2]]] = vals[word][category[lines[2]]] + 1\n",
    "                else:\n",
    "                    vals[word] = [0,0,0,0,0]\n",
    "                    vals[word][category[lines[2]]] = 1"
   ]
  },
  {
   "cell_type": "code",
   "execution_count": 3,
   "metadata": {},
   "outputs": [
    {
     "name": "stdout",
     "output_type": "stream",
     "text": [
      "[18, 1, 3, 0, 226]\n"
     ]
    }
   ],
   "source": [
    "print(vals['mobile'])"
   ]
  },
  {
   "cell_type": "code",
   "execution_count": 4,
   "metadata": {},
   "outputs": [],
   "source": [
    "for values in vals:\n",
    "    total = sum(vals[values])\n",
    "    for i in range(5):\n",
    "        vals[values][i] = vals[values][i]/total"
   ]
  },
  {
   "cell_type": "code",
   "execution_count": 5,
   "metadata": {},
   "outputs": [
    {
     "name": "stdout",
     "output_type": "stream",
     "text": [
      "[0.07258064516129033, 0.004032258064516129, 0.012096774193548387, 0.0, 0.9112903225806451]\n"
     ]
    }
   ],
   "source": [
    "print(vals['mobile'])"
   ]
  },
  {
   "cell_type": "code",
   "execution_count": 6,
   "metadata": {},
   "outputs": [],
   "source": [
    "weights = {}\n",
    "HUNDRED = 90\n",
    "for values in vals:\n",
    "    weights[values] = np.array(vals[values])\n",
    "    for i in range(5):\n",
    "        if (sum(vals[values]) - vals[values][i]) != 0.0 and vals[values][i] != 0.0:\n",
    "            weights[values][i] = np.exp(np.log(vals[values][i] / (sum(vals[values]) - vals[values][i])))\n",
    "        else:\n",
    "            weights[values][i] = 0.0\n"
   ]
  },
  {
   "cell_type": "code",
   "execution_count": 7,
   "metadata": {},
   "outputs": [
    {
     "name": "stdout",
     "output_type": "stream",
     "text": [
      "[0.11029411764705882, 0.2867647058823529, 0.20588235294117646, 0.22058823529411764, 0.17647058823529413]\n",
      "[0.12396694 0.40206186 0.25925926 0.28301887 0.21428571]\n"
     ]
    }
   ],
   "source": [
    "print(vals['day'])\n",
    "print(weights['day'])"
   ]
  },
  {
   "cell_type": "code",
   "execution_count": 14,
   "metadata": {},
   "outputs": [
    {
     "name": "stdout",
     "output_type": "stream",
     "text": [
      "Accuracy:  85.60081466395113 %\n"
     ]
    }
   ],
   "source": [
    "with open('DATA/MiniTest.csv', mode ='r') as file:   \n",
    "    csvFile = csv.reader(file)\n",
    "    accuracy = 0\n",
    "    size = 0\n",
    "    for lines in csvFile:\n",
    "        size += 1\n",
    "        prob = [0.0, 0.0, 0.0, 0.0, 0.0]\n",
    "        for i in range(5):\n",
    "            for word in lines[1].split(' '):\n",
    "                if word in weights:\n",
    "                    prob[i] = prob[i] + vals[word][i] * weights[word][i]\n",
    "        maxProb = max(prob)\n",
    "        if maxProb == prob[0]:\n",
    "            if lines[2] == \"business\":\n",
    "                accuracy += 1\n",
    "            # print(lines[0], \" \", 'business', \" \", lines[2])\n",
    "        elif maxProb == prob[1]:\n",
    "            if lines[2] == \"entertainment\":\n",
    "                accuracy += 1\n",
    "            # print(lines[0], \" \", 'entertainment', \" \", lines[2])\n",
    "        elif maxProb == prob[2]:\n",
    "            if lines[2] == \"politics\":\n",
    "                accuracy += 1\n",
    "            # print(lines[0], \" \", 'politics', \" \", lines[2])\n",
    "        elif maxProb == prob[3]:\n",
    "            if lines[2] == 'sport':\n",
    "                accuracy += 1\n",
    "            # print(lines[0], \" \", 'sport', \" \", lines[2])\n",
    "        elif maxProb == prob[4]:\n",
    "            if lines[2] == 'tech':\n",
    "                accuracy += 1\n",
    "            # print(lines[0], \" \", 'tech', \" \", lines[2])\n",
    "print(\"Accuracy: \", accuracy / size * HUNDRED, \"%\")\n"
   ]
  },
  {
   "cell_type": "code",
   "execution_count": 15,
   "metadata": {},
   "outputs": [],
   "source": [
    "import matplotlib.pyplot as plot\n",
    "import pandas as pd"
   ]
  },
  {
   "cell_type": "code",
   "execution_count": 16,
   "metadata": {},
   "outputs": [
    {
     "data": {
      "image/png": "[encoded data removed]",
      "text/plain": [
       "<Figure size 432x288 with 1 Axes>"
      ]
     },
     "metadata": {
      "needs_background": "light"
     },
     "output_type": "display_data"
    }
   ],
   "source": [
    "ExistingModel = [78.00341, 76.27842, 80.25695, 75.85361, 76.10006]\n",
    "ProposedModel = [82.36892, 84.29505, 84.44507, 72.68903, 86.33905]\n",
    "width = 0.35\n",
    "index = ['Business', 'Entertainment', 'Politics', 'Sport', 'Tech'];\n",
    "\n",
    "plot.bar(np.arange(len(ExistingModel)), ExistingModel, width=width)\n",
    "plot.bar(np.arange(len(ProposedModel)) + width, ProposedModel, width=width)\n",
    "plot.xlabel(index)\n",
    "plot.show()\n"
   ]
  }
 ],
 "metadata": {
  "kernelspec": {
   "display_name": "Python 3",
   "language": "python",
   "name": "python3"
  },
  "language_info": {
   "codemirror_mode": {
    "name": "ipython",
    "version": 3
   },
   "file_extension": ".py",
   "mimetype": "text/x-python",
   "name": "python",
   "nbconvert_exporter": "python",
   "pygments_lexer": "ipython3",
   "version": "3.9.5"
  },
  "orig_nbformat": 4,
  "vscode": {
   "interpreter": {
    "hash": "666cc40e7ce6d31c1437a93e07d5e72f3187b89406f08fe2ceec683eb8bf1832"
   }
  }
 },
 "nbformat": 4,
 "nbformat_minor": 2
}
